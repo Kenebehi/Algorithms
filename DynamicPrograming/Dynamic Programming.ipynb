{
 "cells": [
  {
   "cell_type": "markdown",
   "metadata": {},
   "source": [
    "## Dynamic Programming"
   ]
  },
  {
   "cell_type": "raw",
   "metadata": {},
   "source": [
    "Q1. Calculate the number of ways to reach a stairway with n stairs if you can can take 1 or 2 steps at a time"
   ]
  },
  {
   "cell_type": "markdown",
   "metadata": {},
   "source": [
    "**Solution** Overview\n",
    "\n",
    "Looking at the final step to get to the top, it can either be 1 step or 2 steps. Given the the final step is 1 then the optimum way to get to the top is (n-1) and for 2 steps it is (n-2)\n",
    "\n",
    "- The total number of ways to get to the top of the stairs is (n-1) + (n-2)\n",
    "- This it can also be said that for (n-1), the optimum way to get to (n-1) = (n-2) + (n-3)"
   ]
  },
  {
   "cell_type": "code",
   "execution_count": 2,
   "metadata": {},
   "outputs": [
    {
     "data": {
      "text/plain": [
       "453973694165307953197296969697410619233826"
      ]
     },
     "execution_count": 2,
     "metadata": {},
     "output_type": "execute_result"
    }
   ],
   "source": [
    "def stairs(n):\n",
    "    ways = {}\n",
    "    ways[0] = 1\n",
    "    ways[1] = 1\n",
    "    \n",
    "    for i in range(2, n + 1):\n",
    "        ways[i] = ways[i - 1] + ways[i - 2]\n",
    "    return ways[n]\n",
    "\n",
    "stairs(200)"
   ]
  },
  {
   "cell_type": "raw",
   "metadata": {},
   "source": [
    "Q2. "
   ]
  },
  {
   "cell_type": "code",
   "execution_count": null,
   "metadata": {},
   "outputs": [],
   "source": []
  },
  {
   "cell_type": "raw",
   "metadata": {},
   "source": [
    "Q3. You are given a rod of length n inches and an array of prices. The array contains prices of smaller pieces of that rod when sold. Find the maximm value that could be earned by cuttiing up the rod and selling the pieces.\n",
    "\n",
    "cost 0 | 2 | 4 | 5 | 7 | 11 | 13 | 17 |\n",
    "_______________________________________\n",
    "len  0 | 1 | 2 | 3 | 4 | 5  | 6  |  7 |"
   ]
  },
  {
   "cell_type": "markdown",
   "metadata": {},
   "source": [
    "**Notes**: Dynamic programmng uses a kind of exhaustive search and optimizes by saving repetitive calculations"
   ]
  },
  {
   "cell_type": "code",
   "execution_count": 46,
   "metadata": {},
   "outputs": [
    {
     "name": "stdout",
     "output_type": "stream",
     "text": [
      "amount is 0\n",
      "amount is 2\n",
      "amount is 0\n",
      "amount is 4\n",
      "amount is 2\n",
      "amount is 0\n",
      "amount is 6\n",
      "amount is 4\n",
      "amount is 2\n",
      "amount is 0\n",
      "amount is 8\n",
      "amount is 6\n",
      "amount is 4\n",
      "amount is 2\n",
      "amount is 0\n"
     ]
    },
    {
     "data": {
      "text/plain": [
       "10"
      ]
     },
     "execution_count": 46,
     "metadata": {},
     "output_type": "execute_result"
    }
   ],
   "source": [
    "def rod_cost(cost, n):\n",
    "    \"\"\"\n",
    "    cost: array of lemght and price of length\n",
    "    n: number of ways to cut array\n",
    "    \"\"\"\n",
    "    rod = {}\n",
    "    rod[0] = 0\n",
    "    \n",
    "    for i in range(1, len(cost) + 1):\n",
    "        max_val = 0\n",
    "        for j in range(1, i):\n",
    "            max_val = max(max_val, cost[j] + rod[i - j])\n",
    "            print('i is {0} j is {1}'.rmat(rod[i - j])) \n",
    "        rod[i] = max_val\n",
    "    return rod[n]\n",
    "\n",
    "\n",
    "cost = {\n",
    "    0:0,\n",
    "    1:2,\n",
    "    2:4,\n",
    "    3:5,\n",
    "    4:7,\n",
    "    5:8\n",
    "}\n",
    "\n",
    "rod_cost(cost, 6)"
   ]
  },
  {
   "cell_type": "code",
   "execution_count": 63,
   "metadata": {},
   "outputs": [
    {
     "data": {
      "text/plain": [
       "[[1, 1, 1, 1, 1, 1, 1, 1],\n",
       " [1, 1, 1, 1, 1, 1, 1, 1],\n",
       " [1, 1, 1, 1, 1, 1, 1, 1],\n",
       " [1, 1, 1, 1, 1, 1, 1, 1],\n",
       " [1, 1, 1, 1, 1, 1, 1, 1]]"
      ]
     },
     "execution_count": 63,
     "metadata": {},
     "output_type": "execute_result"
    }
   ],
   "source": [
    "# Creates a list containing 5 lists, each of 8 items, all set to 0\n",
    "w, h = 8, 5;\n",
    "Matrix = [[1 for x in range(w)] for y in range(h)] \n",
    "Matrix"
   ]
  },
  {
   "cell_type": "code",
   "execution_count": null,
   "metadata": {},
   "outputs": [],
   "source": []
  }
 ],
 "metadata": {
  "kernelspec": {
   "display_name": "Python 3",
   "language": "python",
   "name": "python3"
  },
  "language_info": {
   "codemirror_mode": {
    "name": "ipython",
    "version": 3
   },
   "file_extension": ".py",
   "mimetype": "text/x-python",
   "name": "python",
   "nbconvert_exporter": "python",
   "pygments_lexer": "ipython3",
   "version": "3.8.5"
  }
 },
 "nbformat": 4,
 "nbformat_minor": 4
}
